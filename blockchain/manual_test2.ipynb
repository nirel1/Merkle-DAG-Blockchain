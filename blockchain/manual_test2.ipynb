{
 "cells": [
  {
   "cell_type": "markdown",
   "metadata": {},
   "source": [
    "Imports"
   ]
  },
  {
   "cell_type": "code",
   "execution_count": 11,
   "metadata": {
    "collapsed": true
   },
   "outputs": [],
   "source": [
    "from dag_blockchain import DAGBlockchain\n",
    "from blockchain_utils import BlockchainUtils\n",
    "import block\n",
    "from pubsub import pub\n",
    "from node import Node\n",
    "from transaction import Transaction\n",
    "from sensor_transaction import SensorTransaction\n",
    "from transaction_pool import TransactionPool\n",
    "from wallet import Wallet\n",
    "from Crypto.PublicKey import RSA\n",
    "import pprint\n",
    "import random\n",
    "import time\n"
   ]
  },
  {
   "cell_type": "markdown",
   "metadata": {},
   "source": [
    "Creating MWSN Simulation"
   ]
  },
  {
   "cell_type": "code",
   "execution_count": 12,
   "metadata": {},
   "outputs": [
    {
     "name": "stdout",
     "output_type": "stream",
     "text": [
      "starting MWSN\n",
      "genesis block init time @ 80 nodes: 4.00016450881958\n"
     ]
    }
   ],
   "source": [
    "print('starting MWSN')\n",
    "\n",
    "MAX_NODES = 9999\n",
    "num_nodes = 80\n",
    "num_clusters = 16\n",
    "forging_interval = 10  # Time interval.  10 units of time\n",
    "nodes = []  # list of all nodes\n",
    "blockchain_dimensions = 4\n",
    "genesis_node_id = 1 # int(num_nodes/2)\n",
    "\n",
    "then = time.time()\n",
    "for i in range(2):\n",
    "    new_node = Node(i+1, 0, 1)\n",
    "    new_node.start_listener('c0')\n",
    "    nodes.append(new_node)\n",
    "now = time.time()-then\n",
    "print(f'genesis block init time @ {num_nodes} nodes: {now}')"
   ]
  },
  {
   "cell_type": "markdown",
   "metadata": {},
   "source": [
    "Creating DAG Blockchain"
   ]
  },
  {
   "cell_type": "code",
   "execution_count": 13,
   "metadata": {},
   "outputs": [
    {
     "name": "stdout",
     "output_type": "stream",
     "text": [
      "block add successful\n",
      "block add successful\n",
      "block add successful\n",
      "block add successful\n",
      "block add successful\n",
      "block add successful\n",
      "block add successful\n",
      "block add successful\n",
      "block add successful\n",
      "block add successful\n",
      "block add successful\n",
      "block add successful\n",
      "block add successful\n",
      "block add successful\n",
      "block add successful\n",
      "block add successful\n",
      "block add successful\n",
      "block add successful\n",
      "dict_items([(1, <pydag.DAGNode object at 0x000001F05DC47370>), (10, <pydag.DAGNode object at 0x000001F05DB88490>), (11, <pydag.DAGNode object at 0x000001F05DB75BE0>), (12, <pydag.DAGNode object at 0x000001F05B770790>), (13, <pydag.DAGNode object at 0x000001F05DC2A520>), (14, <pydag.DAGNode object at 0x000001F05DCCCF10>), (15, <pydag.DAGNode object at 0x000001F05DC2A9A0>), (16, <pydag.DAGNode object at 0x000001F05DC2A6D0>), (17, <pydag.DAGNode object at 0x000001F05DCE2190>), (20, <pydag.DAGNode object at 0x000001F05DB62DC0>), (21, <pydag.DAGNode object at 0x000001F05B8347F0>), (22, <pydag.DAGNode object at 0x000001F05DC2C550>), (23, <pydag.DAGNode object at 0x000001F05DCEABE0>), (24, <pydag.DAGNode object at 0x000001F05DCEA520>), (30, <pydag.DAGNode object at 0x000001F05DB75100>), (31, <pydag.DAGNode object at 0x000001F05DCEBE20>), (32, <pydag.DAGNode object at 0x000001F0530F5CA0>), (33, <pydag.DAGNode object at 0x000001F05DB5DFD0>), (34, <pydag.DAGNode object at 0x000001F05DC2C370>)])\n",
      "[10, 11, 12, 13]\n",
      "[]\n",
      "[]\n",
      "[1]\n",
      "[30, 31, 32, 34]\n",
      "[13, 1]\n",
      "[<Crypto.Hash.SHA1.SHA1Hash object at 0x000001F05DCFFFD0>, <Crypto.Hash.SHA1.SHA1Hash object at 0x000001F05DCFFE80>]\n"
     ]
    },
    {
     "data": {
      "image/png": "[encoded data removed]",
      "text/plain": [
       "<Figure size 432x288 with 1 Axes>"
      ]
     },
     "metadata": {},
     "output_type": "display_data"
    }
   ],
   "source": [
    "# creating dag_blockchain and adding genesis block\n",
    "genesis_forger = nodes[genesis_node_id-1].wallet.public_key_string()\n",
    "dag_blockchain = DAGBlockchain(blockchain_dimensions, genesis_node_id, genesis_forger)    \n",
    "\n",
    "# adding blocks\n",
    "block49 = block.Block([], 10, 25, 25, genesis_forger)\n",
    "block51 = block.Block([], 11, 25, 75, genesis_forger)\n",
    "block52 = block.Block([], 12, 75, 75, genesis_forger)\n",
    "block4 = block.Block([], 13, 75, 25, genesis_forger)\n",
    "block5 = block.Block([], 14, 5, 80, genesis_forger)\n",
    "block6 = block.Block([], 15, 60, 60, genesis_forger)\n",
    "block7 = block.Block([], 16, 40, 10, genesis_forger)\n",
    "block8 = block.Block([], 17, 70, 20, genesis_forger)\n",
    "\n",
    "dag_blockchain.add_block(block49)\n",
    "dag_blockchain.add_block(block51)\n",
    "dag_blockchain.add_block(block52)\n",
    "dag_blockchain.add_block(block4)\n",
    "dag_blockchain.add_block(block5)\n",
    "dag_blockchain.add_block(block6)\n",
    "dag_blockchain.add_block(block7)\n",
    "dag_blockchain.add_block(block8)\n",
    "\n",
    "# creating and adding for dag_blockchain2\n",
    "genesis_forger2 = nodes[genesis_node_id-2].wallet.public_key_string()\n",
    "dag_blockchain2 = DAGBlockchain(blockchain_dimensions, 2, genesis_forger2)\n",
    "\n",
    "block20 = block.Block([], 20, 20, 30, genesis_forger2)\n",
    "block21 = block.Block([], 21, 60, 60, genesis_forger2)\n",
    "block22 = block.Block([], 22, 60, 30, genesis_forger2)\n",
    "block23 = block.Block([], 23, 40, 65, genesis_forger2)\n",
    "block24 = block.Block([], 24, 45, 66, genesis_forger2)\n",
    "\n",
    "dag_blockchain2.add_block(block20)\n",
    "dag_blockchain2.add_block(block21)\n",
    "dag_blockchain2.add_block(block22)\n",
    "dag_blockchain2.add_block(block23)\n",
    "dag_blockchain2.add_block(block24)\n",
    "\n",
    "dag_blockchain.merge(dag_blockchain2)\n",
    "\n",
    "genesis_forger3 = nodes[genesis_node_id-1].wallet.public_key_string()\n",
    "dag_blockchain3 = DAGBlockchain(blockchain_dimensions, -1, genesis_forger3)\n",
    "\n",
    "block20 = block.Block([], 30, 20, 30, genesis_forger2)\n",
    "block21 = block.Block([], 31, 60, 60, genesis_forger2)\n",
    "block22 = block.Block([], 32, 60, 30, genesis_forger2)\n",
    "block23 = block.Block([], 33, 40, 65, genesis_forger2)\n",
    "block24 = block.Block([], 34, 45, 66, genesis_forger2)\n",
    "\n",
    "dag_blockchain3.add_block(block20)\n",
    "dag_blockchain3.add_block(block21)\n",
    "dag_blockchain3.add_block(block22)\n",
    "dag_blockchain3.add_block(block23)\n",
    "dag_blockchain3.add_block(block24)\n",
    "dag_blockchain.merge(dag_blockchain3)\n",
    "\n",
    "print(dag_blockchain.dag.graph.items())\n",
    "print(dag_blockchain.dag.predecessors(genesis_node_id))\n",
    "print(dag_blockchain.dag.downstream(genesis_node_id))\n",
    "print(dag_blockchain.dag.all_downstreams2(genesis_node_id))\n",
    "print(dag_blockchain.dag.all_leaves(dag_blockchain.dag.graph))\n",
    "print(dag_blockchain.dag.ind_nodes(dag_blockchain.dag.graph))\n",
    "print(dag_blockchain.dag.all_downstreams2(block8.node_id))\n",
    "print(dag_blockchain.dag.merkle_hash(block8))\n",
    "\n",
    "dag_blockchain.visualize(\"\")"
   ]
  }
 ],
 "metadata": {
  "interpreter": {
   "hash": "e07115c058509b06ff5862a1122c96439f9cb85a26d4460b1d5627fb3998836f"
  },
  "kernelspec": {
   "display_name": "Python 3.9.5 64-bit",
   "name": "python3"
  },
  "language_info": {
   "codemirror_mode": {
    "name": "ipython",
    "version": 3
   },
   "file_extension": ".py",
   "mimetype": "text/x-python",
   "name": "python",
   "nbconvert_exporter": "python",
   "pygments_lexer": "ipython3",
   "version": "3.9.5"
  }
 },
 "nbformat": 4,
 "nbformat_minor": 0
}
